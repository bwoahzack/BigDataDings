{
  "nbformat": 4,
  "nbformat_minor": 0,
  "metadata": {
    "colab": {
      "provenance": [],
      "include_colab_link": true
    },
    "kernelspec": {
      "name": "python3",
      "display_name": "Python 3"
    },
    "language_info": {
      "name": "python"
    }
  },
  "cells": [
    {
      "cell_type": "markdown",
      "metadata": {
        "id": "view-in-github",
        "colab_type": "text"
      },
      "source": [
        "<a href=\"https://colab.research.google.com/github/mimeu/BigDataDings/blob/main/Lista1MiNBD.ipynb\" target=\"_parent\"><img src=\"https://colab.research.google.com/assets/colab-badge.svg\" alt=\"Open In Colab\"/></a>"
      ]
    },
    {
      "cell_type": "code",
      "execution_count": 2,
      "metadata": {
        "colab": {
          "base_uri": "https://localhost:8080/",
          "height": 265
        },
        "id": "_gf8YjTKLFMB",
        "outputId": "6c7cb671-c6b5-4ace-8d49-7134af84bf11"
      },
      "outputs": [
        {
          "output_type": "display_data",
          "data": {
            "text/plain": [
              "<Figure size 432x288 with 1 Axes>"
            ],
            "image/png": "[encoded data removed]"
          },
          "metadata": {
            "needs_background": "light"
          }
        }
      ],
      "source": [
        "import numpy as np\n",
        "import matplotlib.pyplot as plt\n",
        "from sklearn.linear_model import LinearRegression\n",
        "\n",
        "a = 2\n",
        "b = 8\n",
        "\n",
        "x = np.random.rand(100,1) #uniform distribution\n",
        "y = a + b*x + np.random.randn(100,1) #normal distribution\n",
        "\n",
        "plt.scatter(x, y, alpha=0.7, color=\"red\")\n",
        "\n",
        "#funkcja na dostawienie kolumny jedynek (wyrazow wolnych)\n",
        "\n",
        "def add_constant(X):\n",
        "  return np.column_stack([np.ones((X.shape[0],1)),X])\n",
        "\n",
        "x_ext = add_constant(x)"
      ]
    },
    {
      "cell_type": "code",
      "source": [
        "#model uczenia\n",
        "a = y.T @ x_ext @ np.linalg.inv(x_ext.T @ x_ext)\n",
        "\n",
        "#wypisanie parametrow\n",
        "print(f\"a = {a[0][0]}\")\n",
        "print(f\"b = {a[0][1]}\")\n",
        "\n",
        "#predykcja\n",
        "y_pred = x_ext @ a.T\n",
        "plt.scatter(x, y, alpha=0.7, color=\"red\")\n",
        "plt.plot(x, y_pred, color=\"black\", linewidth=3)"
      ],
      "metadata": {
        "colab": {
          "base_uri": "https://localhost:8080/",
          "height": 319
        },
        "id": "g7DMRmo1RUwq",
        "outputId": "a14511b8-8994-4527-ad9d-2768c0a85a00"
      },
      "execution_count": null,
      "outputs": [
        {
          "output_type": "stream",
          "name": "stdout",
          "text": [
            "a = 1.5539477779665134\n",
            "b = 8.75631792233628\n"
          ]
        },
        {
          "output_type": "execute_result",
          "data": {
            "text/plain": [
              "[<matplotlib.lines.Line2D at 0x7f9c9e757430>]"
            ]
          },
          "metadata": {},
          "execution_count": 159
        },
        {
          "output_type": "display_data",
          "data": {
            "text/plain": [
              "<Figure size 432x288 with 1 Axes>"
            ],
            "image/png": "[encoded data removed]"
          },
          "metadata": {
            "needs_background": "light"
          }
        }
      ]
    },
    {
      "cell_type": "code",
      "source": [
        "import numpy as np\n",
        "import matplotlib.pyplot as plt\n",
        "from sklearn.linear_model import LinearRegression\n",
        "\n",
        "a = 8\n",
        "b = 2\n",
        "\n",
        "''' Linear least squares with l2 regularization.\n",
        "\n",
        "Minimizes the objective function:\n",
        "\n",
        "||y - Xw||^2_2 + alpha * ||w||^2_2'''\n",
        "\n",
        "#wygenerowanie danych\n",
        "x = np.random.rand(100,1) #uniform distribution\n",
        "y = a * x + b + np.random.randn(100,1) #normal distribution\n",
        "\n",
        "plt.scatter(x, y, alpha=0.7, color=\"red\")\n",
        "\n",
        "#uczenie modelu\n",
        "model = Ridge(alpha=1.0) #ridge This model solves a regression model where the loss function is the linear least squares function and regularization is given by the l2-norm. Also known as Ridge Regression \n",
        "model.fit(x, y) #dopasowanie\n",
        "y_pred = model.predict(x) #predykcja\n",
        "\n",
        "'''c = y.T @ x_ext @ np.linalg.inv(x_ext.T @ x_ext)\n",
        "print(f\"a = {c[0][0]}\")\n",
        "print(f\"b = {c[0][1]}\")'''\n",
        "\n",
        "a = model.coef_\n",
        "b = model.intercept_\n",
        "\n",
        "print(f\"a = {a}\")\n",
        "print(f\"b = {b}\")\n",
        "\n",
        "plt.plot(x, y_pred, color=\"black\", linewidth=3)"
      ],
      "metadata": {
        "colab": {
          "base_uri": "https://localhost:8080/",
          "height": 317
        },
        "id": "W8E11wYLCeGH",
        "outputId": "92f0aaf6-4582-4134-b7b5-a05b387785a2"
      },
      "execution_count": null,
      "outputs": [
        {
          "output_type": "stream",
          "name": "stdout",
          "text": [
            "a = [[7.45317361]]\n",
            "b = [2.24741167]\n"
          ]
        },
        {
          "output_type": "execute_result",
          "data": {
            "text/plain": [
              "[<matplotlib.lines.Line2D at 0x7f9c9e7e7d30>]"
            ]
          },
          "metadata": {},
          "execution_count": 165
        },
        {
          "output_type": "display_data",
          "data": {
            "text/plain": [
              "<Figure size 432x288 with 1 Axes>"
            ],
            "image/png": "[encoded data removed]"
          },
          "metadata": {
            "needs_background": "light"
          }
        }
      ]
    }
  ]
}